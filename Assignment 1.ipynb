{
 "cells": [
  {
   "cell_type": "markdown",
   "id": "a5f7eb7e-fa4a-459a-b3bb-0e23cdf3c6e1",
   "metadata": {},
   "source": [
    "# TOPIC: Python Basics Variable"
   ]
  },
  {
   "cell_type": "code",
   "execution_count": 4,
   "id": "8a7e79d7-e69a-4f5b-90ff-7b29bb9f0e58",
   "metadata": {},
   "outputs": [
    {
     "name": "stdout",
     "output_type": "stream",
     "text": [
      "After swapping:\n",
      "x = 10\n",
      "y = 15\n"
     ]
    }
   ],
   "source": [
    "#Que 1\n",
    "x = 15\n",
    "y = 10\n",
    "\n",
    "x = x + y\n",
    "y = x - y\n",
    "x = x - y\n",
    "\n",
    "print(\"After swapping:\")\n",
    "print(\"x =\", x)\n",
    "print(\"y =\", y)\n"
   ]
  },
  {
   "cell_type": "code",
   "execution_count": 5,
   "id": "f870e6fa-12c8-475f-9e24-2eb2533c8b60",
   "metadata": {},
   "outputs": [
    {
     "name": "stdin",
     "output_type": "stream",
     "text": [
      "Enter the length of the rectangle:  5\n",
      "Enter the width of the rectangle:  5\n"
     ]
    },
    {
     "name": "stdout",
     "output_type": "stream",
     "text": [
      "The area of the rectangle is: 25.0\n"
     ]
    }
   ],
   "source": [
    "#Que 2\n",
    "length = float(input(\"Enter the length of the rectangle: \"))\n",
    "width = float(input(\"Enter the width of the rectangle: \"))\n",
    "\n",
    "\n",
    "area = length * width\n",
    "\n",
    "\n",
    "print(\"The area of the rectangle is:\", area)\n"
   ]
  },
  {
   "cell_type": "code",
   "execution_count": 6,
   "id": "4108c810-0061-4db8-b385-720161ff0c3c",
   "metadata": {},
   "outputs": [
    {
     "name": "stdin",
     "output_type": "stream",
     "text": [
      "Enter temperature in Celsius:  34\n"
     ]
    },
    {
     "name": "stdout",
     "output_type": "stream",
     "text": [
      "Temperature in Fahrenheit: 93.2\n"
     ]
    }
   ],
   "source": [
    "#Que 3\n",
    "# Taking input from the user\n",
    "celsius = float(input(\"Enter temperature in Celsius: \"))\n",
    "\n",
    "# Conversion formula: Fahrenheit\n",
    "fahrenheit = (celsius * 9/5) + 32\n",
    "\n",
    "# Displaying the result\n",
    "print(\"Temperature in Fahrenheit:\", fahrenheit)\n"
   ]
  },
  {
   "cell_type": "markdown",
   "id": "063337cf-2bbf-4c6f-8c2a-fe9eba467ed9",
   "metadata": {},
   "source": [
    "# TOPIC: String Based Questions"
   ]
  },
  {
   "cell_type": "code",
   "execution_count": 7,
   "id": "8f1629ac-7abf-4c72-a4f3-5bb4d64fc319",
   "metadata": {},
   "outputs": [
    {
     "name": "stdin",
     "output_type": "stream",
     "text": [
      "Enter a string:  Hello I am Harshal from Maharashtra\n"
     ]
    },
    {
     "name": "stdout",
     "output_type": "stream",
     "text": [
      "Length of the string: 35\n"
     ]
    }
   ],
   "source": [
    "#Que 1\n",
    "# Taking input from the user\n",
    "input_string = input(\"Enter a string: \")\n",
    "\n",
    "# Calculating and displaying the length of the string\n",
    "string_length = len(input_string)\n",
    "print(\"Length of the string:\", string_length)\n"
   ]
  },
  {
   "cell_type": "code",
   "execution_count": 8,
   "id": "a3156937-62dd-443b-b95e-6c95f17ca20b",
   "metadata": {},
   "outputs": [
    {
     "name": "stdin",
     "output_type": "stream",
     "text": [
      "Enter a sentence:  Hello I am Harshal From Maharashtra THaNk YOu\n"
     ]
    },
    {
     "name": "stdout",
     "output_type": "stream",
     "text": [
      "Number of vowels in the sentence: 14\n"
     ]
    }
   ],
   "source": [
    "#Que 2\n",
    "# Taking input from the user\n",
    "sentence = input(\"Enter a sentence: \")\n",
    "\n",
    "# Converting the sentence to lowercase (to handle both upper and lower case vowels)\n",
    "sentence_lower = sentence.lower()\n",
    "\n",
    "# Counting the number of vowels\n",
    "vowel_count = 0\n",
    "for char in sentence_lower:\n",
    "    if char in \"aeiou\":\n",
    "        vowel_count += 1\n",
    "\n",
    "# Displaying the result\n",
    "print(\"Number of vowels in the sentence:\", vowel_count)\n"
   ]
  },
  {
   "cell_type": "code",
   "execution_count": 9,
   "id": "596cf0a8-0c6b-4c67-ab63-95cc0aa2ec54",
   "metadata": {},
   "outputs": [
    {
     "name": "stdin",
     "output_type": "stream",
     "text": [
      "Enter a string:  Maharshtra From Harshal am I Hello\n"
     ]
    },
    {
     "name": "stdout",
     "output_type": "stream",
     "text": [
      "Reversed string: olleH I ma lahsraH morF arthsrahaM\n"
     ]
    }
   ],
   "source": [
    "#Que 3\n",
    "# Taking input from the user\n",
    "input_string = input(\"Enter a string: \")\n",
    "\n",
    "# Reversing the string using string slicing\n",
    "reversed_string = input_string[::-1]\n",
    "\n",
    "# Displaying the reversed string\n",
    "print(\"Reversed string:\", reversed_string)\n",
    "\n"
   ]
  },
  {
   "cell_type": "code",
   "execution_count": 11,
   "id": "f003040a-5e56-4d65-8b79-8e382c21db0e",
   "metadata": {},
   "outputs": [
    {
     "name": "stdin",
     "output_type": "stream",
     "text": [
      "Enter a string:  h   ello i AM Harsh  akl \n"
     ]
    },
    {
     "name": "stdout",
     "output_type": "stream",
     "text": [
      "The input string is not a palindrome.\n"
     ]
    }
   ],
   "source": [
    "#Que 4\n",
    "# Taking input from the user\n",
    "input_string = input(\"Enter a string: \")\n",
    "\n",
    "# Removing spaces and converting the string to lowercase\n",
    "cleaned_string = input_string.replace(\" \", \"\").lower()\n",
    "\n",
    "# Reversing the cleaned string\n",
    "reversed_string = cleaned_string[::-1]\n",
    "\n",
    "# Checking if the original and reversed strings are the same\n",
    "if cleaned_string == reversed_string:\n",
    "    print(\"The input string is a palindrome.\")\n",
    "else:\n",
    "    print(\"The input string is not a palindrome.\")\n"
   ]
  },
  {
   "cell_type": "code",
   "execution_count": 12,
   "id": "52820da0-92f1-48b9-af8c-bed734d03f28",
   "metadata": {},
   "outputs": [
    {
     "name": "stdin",
     "output_type": "stream",
     "text": [
      "Enter a string:  heLLO HArsha l\n"
     ]
    },
    {
     "name": "stdout",
     "output_type": "stream",
     "text": [
      "Modified string without spaces: heLLOHArshal\n"
     ]
    }
   ],
   "source": [
    "#Que 5\n",
    "# Taking input from the user\n",
    "input_string = input(\"Enter a string: \")\n",
    "\n",
    "# Removing spaces from the string\n",
    "modified_string = input_string.replace(\" \", \"\")\n",
    "\n",
    "# Displaying the modified string without spaces\n",
    "print(\"Modified string without spaces:\", modified_string)\n"
   ]
  },
  {
   "cell_type": "code",
   "execution_count": null,
   "id": "82b2a864-e7da-46de-a243-e291c386a3a3",
   "metadata": {},
   "outputs": [],
   "source": []
  }
 ],
 "metadata": {
  "kernelspec": {
   "display_name": "Python 3 (ipykernel)",
   "language": "python",
   "name": "python3"
  },
  "language_info": {
   "codemirror_mode": {
    "name": "ipython",
    "version": 3
   },
   "file_extension": ".py",
   "mimetype": "text/x-python",
   "name": "python",
   "nbconvert_exporter": "python",
   "pygments_lexer": "ipython3",
   "version": "3.10.8"
  }
 },
 "nbformat": 4,
 "nbformat_minor": 5
}
